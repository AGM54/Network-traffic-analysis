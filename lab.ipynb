{
 "cells": [
  {
   "cell_type": "markdown",
   "metadata": {},
   "source": [
    "# 1. Instale la librería scapy: https://scapy.net/\n",
    "2. Tutorial de uso:\n",
    "https://guedou.github.io/talks/2022_GreHack/Scapy%20in%200x30%20minutes.slides.html\n",
    "\n",
    "# 3. Verifique que la herramienta fue correctamente instalada:\n",
    "\n",
    "a. Capture 25 paquetes de su red doméstica (no de la red de la UVG) y asígnelos a una\n",
    "variable.\n",
    "\n",
    "b. Imprima el tipo de variable, la longitud y el contenido de la variable.\n",
    "\n",
    "c. Imprima el tipo de dato del primer paquete capturado.\n",
    "\n",
    "d. Imprima el contenido de 5 paquetes"
   ]
  },
  {
   "cell_type": "markdown",
   "metadata": {},
   "source": [
    "a. Capture 25 paquetes de su red doméstica (no de la red de la UVG) y asígnelos a una\n",
    "variable"
   ]
  },
  {
   "cell_type": "code",
   "execution_count": 1,
   "metadata": {},
   "outputs": [
    {
     "ename": "ModuleNotFoundError",
     "evalue": "No module named 'scapy'",
     "output_type": "error",
     "traceback": [
      "\u001b[31m---------------------------------------------------------------------------\u001b[39m",
      "\u001b[31mModuleNotFoundError\u001b[39m                       Traceback (most recent call last)",
      "\u001b[36mCell\u001b[39m\u001b[36m \u001b[39m\u001b[32mIn[1]\u001b[39m\u001b[32m, line 1\u001b[39m\n\u001b[32m----> \u001b[39m\u001b[32m1\u001b[39m \u001b[38;5;28;01mfrom\u001b[39;00m\u001b[38;5;250m \u001b[39m\u001b[34;01mscapy\u001b[39;00m\u001b[34;01m.\u001b[39;00m\u001b[34;01mall\u001b[39;00m\u001b[38;5;250m \u001b[39m\u001b[38;5;28;01mimport\u001b[39;00m sniff\n\u001b[32m      3\u001b[39m \u001b[38;5;66;03m# Captura 25 paquetes desde tu red doméstica\u001b[39;00m\n\u001b[32m      4\u001b[39m paquetes = sniff(count=\u001b[32m25\u001b[39m)\n",
      "\u001b[31mModuleNotFoundError\u001b[39m: No module named 'scapy'"
     ]
    }
   ],
   "source": [
    "from scapy.all import sniff\n",
    "\n",
    "# Captura 25 paquetes desde tu red doméstica\n",
    "paquetes = sniff(count=25)\n"
   ]
  }
 ],
 "metadata": {
  "kernelspec": {
   "display_name": "Python 3",
   "language": "python",
   "name": "python3"
  },
  "language_info": {
   "codemirror_mode": {
    "name": "ipython",
    "version": 3
   },
   "file_extension": ".py",
   "mimetype": "text/x-python",
   "name": "python",
   "nbconvert_exporter": "python",
   "pygments_lexer": "ipython3",
   "version": "3.11.9"
  }
 },
 "nbformat": 4,
 "nbformat_minor": 2
}
