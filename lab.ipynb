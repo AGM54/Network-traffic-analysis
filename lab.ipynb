{
 "cells": [
  {
   "cell_type": "markdown",
   "metadata": {},
   "source": [
    "# 1. Instale la librería scapy: https://scapy.net/\n",
    "2. Tutorial de uso:\n",
    "https://guedou.github.io/talks/2022_GreHack/Scapy%20in%200x30%20minutes.slides.html\n",
    "\n",
    "# 3. Verifique que la herramienta fue correctamente instalada:\n",
    "\n",
    "a. Capture 25 paquetes de su red doméstica (no de la red de la UVG) y asígnelos a una\n",
    "variable.\n",
    "\n",
    "b. Imprima el tipo de variable, la longitud y el contenido de la variable.\n",
    "\n",
    "c. Imprima el tipo de dato del primer paquete capturado.\n",
    "\n",
    "d. Imprima el contenido de 5 paquetes"
   ]
  },
  {
   "cell_type": "markdown",
   "metadata": {},
   "source": [
    "a. Capture 25 paquetes de su red doméstica (no de la red de la UVG) y asígnelos a una\n",
    "variable"
   ]
  },
  {
   "cell_type": "code",
   "execution_count": null,
   "metadata": {},
   "outputs": [],
   "source": [
    "from scapy.all import sniff\n",
    "\n",
    "# Captura 25 paquetes desde una red doméstica\n",
    "paquetes = sniff(count=25)\n",
    "\n",
    "\n"
   ]
  },
  {
   "cell_type": "markdown",
   "metadata": {},
   "source": [
    "b. Imprima el tipo de variable, la longitud y el contenido de la variable"
   ]
  },
  {
   "cell_type": "code",
   "execution_count": 4,
   "metadata": {},
   "outputs": [
    {
     "name": "stdout",
     "output_type": "stream",
     "text": [
      "Tipo de variable: <class 'scapy.plist.PacketList'>\n",
      "Cantidad de paquetes capturados: 24\n",
      "Contenido de la variable:\n",
      "<Sniffed: TCP:24 UDP:0 ICMP:0 Other:0>\n"
     ]
    }
   ],
   "source": [
    "print(\"Tipo de variable:\", type(paquetes))\n",
    "print(\"Cantidad de paquetes capturados:\", len(paquetes))\n",
    "print(\"Contenido de la variable:\")\n",
    "print(paquetes)\n"
   ]
  },
  {
   "cell_type": "markdown",
   "metadata": {},
   "source": [
    "c. Imprima el tipo de dato del primer paquete capturado."
   ]
  },
  {
   "cell_type": "code",
   "execution_count": 5,
   "metadata": {},
   "outputs": [
    {
     "name": "stdout",
     "output_type": "stream",
     "text": [
      "Tipo de dato del primer paquete: <class 'scapy.layers.l2.Ether'>\n"
     ]
    }
   ],
   "source": [
    "print(\"Tipo de dato del primer paquete:\", type(paquetes[0]))\n"
   ]
  },
  {
   "cell_type": "markdown",
   "metadata": {},
   "source": [
    "d. Imprima el contenido de 5 paquetes"
   ]
  },
  {
   "cell_type": "code",
   "execution_count": 6,
   "metadata": {},
   "outputs": [
    {
     "name": "stdout",
     "output_type": "stream",
     "text": [
      "Contenido de los primeros 5 paquetes:\n",
      "Paquete 1:\n",
      "Ether / IP / TCP 172.64.150.27:https > 192.168.68.62:51014 PA / Raw\n",
      "----------------------------------------\n",
      "Paquete 2:\n",
      "Ether / IP / TCP 172.64.150.27:https > 192.168.68.62:51014 PA / Raw\n",
      "----------------------------------------\n",
      "Paquete 3:\n",
      "Ether / IP / TCP 192.168.68.62:51014 > 172.64.150.27:https A\n",
      "----------------------------------------\n",
      "Paquete 4:\n",
      "Ether / IP / TCP 192.168.68.62:51014 > 172.64.150.27:https PA / Raw\n",
      "----------------------------------------\n",
      "Paquete 5:\n",
      "Ether / IP / TCP 172.64.150.27:https > 192.168.68.62:51014 A\n",
      "----------------------------------------\n"
     ]
    }
   ],
   "source": [
    "print(\"Contenido de los primeros 5 paquetes:\")\n",
    "for i in range(5):\n",
    "    print(f\"Paquete {i+1}:\")\n",
    "    print(paquetes[i])\n",
    "    print(\"-\" * 40)\n"
   ]
  },
  {
   "cell_type": "markdown",
   "metadata": {},
   "source": [
    "Análisis estadístico\n",
    "1. Descargue e archivo analisis_paquetes.pcap y asignelo a una variable.\n",
    "2. Convierta la variable a un DataFrame.\n",
    "3. Muestre el contenido de las primeras 5 filas del dataset.\n",
    "4. Muestre los valores de las columnas: Src Addres, Dst Address, Src Port y Dst Port.\n",
    "5. Estadísticas\n",
    "a. Muestre todas las IP origen\n",
    "b. Muestre todas las IP destino\n",
    "c. ¿Cuál es la IP origen más frecuente?\n",
    "i. ¿A qué IP destino se comunica con más frecuencia?\n",
    "ii. ¿A que puerto destino se comunica? ¿Cuál es el propósito de este puerto?\n"
   ]
  },
  {
   "cell_type": "markdown",
   "metadata": {},
   "source": [
    "1. Descargue e archivo analisis_paquetes.pcap y asignelo a una variable."
   ]
  },
  {
   "cell_type": "code",
   "execution_count": null,
   "metadata": {},
   "outputs": [],
   "source": [
    "from scapy.all import rdpcap, IP, TCP\n",
    "import pandas as pd\n",
    "\n",
    "\n",
    "paquetes = rdpcap(\"analisis_paquetes.pcap\")\n"
   ]
  },
  {
   "cell_type": "markdown",
   "metadata": {},
   "source": [
    "2: Convertir los paquetes a un DataFrame"
   ]
  },
  {
   "cell_type": "code",
   "execution_count": 11,
   "metadata": {},
   "outputs": [
    {
     "name": "stdout",
     "output_type": "stream",
     "text": [
      "Cantidad de paquetes leídos: 62\n"
     ]
    }
   ],
   "source": [
    "print(\"Cantidad de paquetes leídos:\", len(paquetes))\n"
   ]
  },
  {
   "cell_type": "code",
   "execution_count": null,
   "metadata": {},
   "outputs": [
    {
     "name": "stdout",
     "output_type": "stream",
     "text": [
      "   Src Address  Dst Address  Src Port  Dst Port\n",
      "0   10.1.10.53  84.54.22.33        53        53\n",
      "1  84.54.22.33   10.1.10.53        53        53\n",
      "2   10.1.10.53  84.54.22.33        53        53\n",
      "3  84.54.22.33   10.1.10.53        53        53\n",
      "4   10.1.10.53  84.54.22.33        53        53\n"
     ]
    }
   ],
   "source": [
    "from scapy.all import rdpcap, IP, TCP, UDP\n",
    "import pandas as pd\n",
    "\n",
    "\n",
    "paquetes = rdpcap(\"analisis_paquetes.pcap\")\n",
    "datos = []\n",
    "\n",
    "# Extraer info de cada paquete\n",
    "for pkt in paquetes:\n",
    "    if IP in pkt:\n",
    "        src_ip = pkt[IP].src\n",
    "        dst_ip = pkt[IP].dst\n",
    "\n",
    "        # Obtener puerto origen y destino\n",
    "        if TCP in pkt:\n",
    "            src_port = pkt[TCP].sport\n",
    "            dst_port = pkt[TCP].dport\n",
    "        elif UDP in pkt:\n",
    "            src_port = pkt[UDP].sport\n",
    "            dst_port = pkt[UDP].dport\n",
    "        else:\n",
    "            src_port = None\n",
    "            dst_port = None\n",
    "\n",
    "        datos.append([src_ip, dst_ip, src_port, dst_port])\n",
    "\n",
    "\n",
    "df = pd.DataFrame(datos, columns=['Src Address', 'Dst Address', 'Src Port', 'Dst Port'])\n",
    "\n",
    "\n",
    "print(df.head())\n",
    "\n"
   ]
  },
  {
   "cell_type": "markdown",
   "metadata": {},
   "source": [
    "3. Muestre el contenido de las primeras 5 filas del dataset."
   ]
  },
  {
   "cell_type": "code",
   "execution_count": 17,
   "metadata": {},
   "outputs": [
    {
     "name": "stdout",
     "output_type": "stream",
     "text": [
      "   Src Address  Dst Address  Src Port  Dst Port\n",
      "0   10.1.10.53  84.54.22.33        53        53\n",
      "1  84.54.22.33   10.1.10.53        53        53\n",
      "2   10.1.10.53  84.54.22.33        53        53\n",
      "3  84.54.22.33   10.1.10.53        53        53\n",
      "4   10.1.10.53  84.54.22.33        53        53\n"
     ]
    }
   ],
   "source": [
    "print(df.head())\n"
   ]
  },
  {
   "cell_type": "markdown",
   "metadata": {},
   "source": [
    "4. Muestre los valores de las columnas: Src Addres, Dst Address, Src Port y Dst Port."
   ]
  },
  {
   "cell_type": "code",
   "execution_count": 18,
   "metadata": {},
   "outputs": [
    {
     "name": "stdout",
     "output_type": "stream",
     "text": [
      "    Src Address  Dst Address  Src Port  Dst Port\n",
      "0    10.1.10.53  84.54.22.33        53        53\n",
      "1   84.54.22.33   10.1.10.53        53        53\n",
      "2    10.1.10.53  84.54.22.33        53        53\n",
      "3   84.54.22.33   10.1.10.53        53        53\n",
      "4    10.1.10.53  84.54.22.33        53        53\n",
      "..          ...          ...       ...       ...\n",
      "57  84.54.22.33   10.1.10.53        53        53\n",
      "58   10.1.10.53  84.54.22.33        53        53\n",
      "59  84.54.22.33   10.1.10.53        53        53\n",
      "60   10.1.10.53  84.54.22.33        53        53\n",
      "61  84.54.22.33   10.1.10.53        53        53\n",
      "\n",
      "[62 rows x 4 columns]\n"
     ]
    }
   ],
   "source": [
    "print(df[['Src Address', 'Dst Address', 'Src Port', 'Dst Port']])\n"
   ]
  },
  {
   "cell_type": "markdown",
   "metadata": {},
   "source": [
    "a. Muestre todas las IP origen"
   ]
  },
  {
   "cell_type": "code",
   "execution_count": 19,
   "metadata": {},
   "outputs": [
    {
     "name": "stdout",
     "output_type": "stream",
     "text": [
      "IPs de origen únicas:\n",
      "['10.1.10.53' '84.54.22.33' '75.75.75.75']\n"
     ]
    }
   ],
   "source": [
    "print(\"IPs de origen únicas:\")\n",
    "print(df['Src Address'].unique())\n"
   ]
  },
  {
   "cell_type": "markdown",
   "metadata": {},
   "source": [
    "b. Muestre todas las IP destino"
   ]
  },
  {
   "cell_type": "code",
   "execution_count": 20,
   "metadata": {},
   "outputs": [
    {
     "name": "stdout",
     "output_type": "stream",
     "text": [
      "IPs de destino únicas:\n",
      "['84.54.22.33' '10.1.10.53' '75.75.75.75']\n"
     ]
    }
   ],
   "source": [
    "print(\"IPs de destino únicas:\")\n",
    "print(df['Dst Address'].unique())\n"
   ]
  },
  {
   "cell_type": "markdown",
   "metadata": {},
   "source": [
    "¿Cuál es la IP origen más frecuente?\n",
    "i. ¿A qué IP destino se comunica con más frecuencia?\n",
    "ii. ¿A que puerto destino se comunica? ¿Cuál es el propósito de este puerto?\n",
    "i. ¿Desde que puertos origen se comunica?"
   ]
  },
  {
   "cell_type": "code",
   "execution_count": 21,
   "metadata": {},
   "outputs": [
    {
     "name": "stdout",
     "output_type": "stream",
     "text": [
      "IP origen más frecuente: 10.1.10.53\n"
     ]
    }
   ],
   "source": [
    "ip_origen_frecuente = df['Src Address'].value_counts().idxmax()\n",
    "print(\"IP origen más frecuente:\", ip_origen_frecuente)\n"
   ]
  },
  {
   "cell_type": "code",
   "execution_count": 22,
   "metadata": {},
   "outputs": [
    {
     "name": "stdout",
     "output_type": "stream",
     "text": [
      "IP destino más frecuente para esa IP origen: 84.54.22.33\n"
     ]
    }
   ],
   "source": [
    "ip_destino_frecuente = df[df['Src Address'] == ip_origen_frecuente]['Dst Address'].value_counts().idxmax()\n",
    "print(\"IP destino más frecuente para esa IP origen:\", ip_destino_frecuente)\n"
   ]
  },
  {
   "cell_type": "code",
   "execution_count": 23,
   "metadata": {},
   "outputs": [
    {
     "name": "stdout",
     "output_type": "stream",
     "text": [
      "Puerto destino más frecuente: 53\n"
     ]
    }
   ],
   "source": [
    "puerto_destino_frecuente = df[df['Src Address'] == ip_origen_frecuente]['Dst Port'].mode()[0]\n",
    "print(\"Puerto destino más frecuente:\", puerto_destino_frecuente)\n"
   ]
  },
  {
   "cell_type": "code",
   "execution_count": 24,
   "metadata": {},
   "outputs": [
    {
     "name": "stdout",
     "output_type": "stream",
     "text": [
      "Propósito del puerto destino: domain\n"
     ]
    }
   ],
   "source": [
    "import socket\n",
    "\n",
    "def obtener_servicio_puerto(puerto):\n",
    "    try:\n",
    "        return socket.getservbyport(int(puerto))\n",
    "    except:\n",
    "        return \"Desconocido\"\n",
    "\n",
    "print(\"Propósito del puerto destino:\", obtener_servicio_puerto(puerto_destino_frecuente))\n"
   ]
  },
  {
   "cell_type": "code",
   "execution_count": 25,
   "metadata": {},
   "outputs": [
    {
     "name": "stdout",
     "output_type": "stream",
     "text": [
      "Puertos de origen utilizados por esa IP: [np.int64(53), np.int64(15812), np.int64(23903)]\n"
     ]
    }
   ],
   "source": [
    "puertos_origen_usados = df[df['Src Address'] == ip_origen_frecuente]['Src Port'].dropna().unique()\n",
    "print(\"Puertos de origen utilizados por esa IP:\", list(puertos_origen_usados))\n"
   ]
  },
  {
   "cell_type": "markdown",
   "metadata": {},
   "source": [
    "## ¿Cuál es la IP origen más frecuente?\t\n",
    "10.1.10.53\n",
    "\n",
    "## ¿A qué IP destino se comunica con más frecuencia?\t\n",
    "84.54.22.33\n",
    "\n",
    "## ¿A qué puerto destino se comunica más frecuentemente?\t\n",
    "53\n",
    "\n",
    "## ¿Cuál es el propósito de ese puerto?\t\n",
    "domain (es decir, DNS)\n",
    "\n",
    "## ¿Desde qué puertos origen se comunica?\t\n",
    "[53, 15812, 23903]"
   ]
  }
 ],
 "metadata": {
  "kernelspec": {
   "display_name": "Python 3",
   "language": "python",
   "name": "python3"
  },
  "language_info": {
   "codemirror_mode": {
    "name": "ipython",
    "version": 3
   },
   "file_extension": ".py",
   "mimetype": "text/x-python",
   "name": "python",
   "nbconvert_exporter": "python",
   "pygments_lexer": "ipython3",
   "version": "3.11.9"
  }
 },
 "nbformat": 4,
 "nbformat_minor": 2
}
